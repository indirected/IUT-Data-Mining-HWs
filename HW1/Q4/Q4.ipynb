{
 "cells": [
  {
   "cell_type": "code",
   "execution_count": 10,
   "metadata": {},
   "outputs": [],
   "source": [
    "import pandas as pd\n",
    "import numpy as np\n",
    "import matplotlib.pyplot as plt\n",
    "import seaborn as sns\n",
    "from sklearn.utils import resample"
   ]
  },
  {
   "cell_type": "code",
   "execution_count": 3,
   "metadata": {},
   "outputs": [],
   "source": [
    "dataset = pd.read_csv('machines.csv', index_col=0)\n",
    "dataset.columns = ['Vendor_name', 'model', 'MCYT', 'MMIN', 'MMAX', 'CACH', 'CHMIN', 'CHMAX', 'PRP', 'ERP']"
   ]
  },
  {
   "cell_type": "markdown",
   "metadata": {},
   "source": [
    "### 4.a\n",
    "Imbalance data means that out of all the points in the data distribution, we have more points of a specific class than points of other classes. this creates a bayes in the model. As the model sees and learns more of one class, it tries to predict more of that class by default. In fact, for each entry, model tends to predict that class."
   ]
  },
  {
   "cell_type": "markdown",
   "metadata": {},
   "source": [
    "### 4.b"
   ]
  },
  {
   "cell_type": "code",
   "execution_count": 5,
   "metadata": {},
   "outputs": [],
   "source": [
    "dataset.loc[dataset['PRP'] <= 300, 'labeled_PRP'] = 'A'\n",
    "dataset.loc[dataset['PRP'] > 300, 'labeled_PRP'] = 'B'"
   ]
  },
  {
   "cell_type": "markdown",
   "metadata": {},
   "source": [
    "### 4.c"
   ]
  },
  {
   "cell_type": "code",
   "execution_count": 15,
   "metadata": {},
   "outputs": [
    {
     "data": {
      "text/plain": [
       "A    191\n",
       "B     17\n",
       "Name: labeled_PRP, dtype: int64"
      ]
     },
     "execution_count": 15,
     "metadata": {},
     "output_type": "execute_result"
    },
    {
     "data": {
      "image/png": "[encoded data removed]",
      "text/plain": [
       "<Figure size 432x288 with 1 Axes>"
      ]
     },
     "metadata": {},
     "output_type": "display_data"
    }
   ],
   "source": [
    "dataset['labeled_PRP'].value_counts().plot.pie().get_figure().set_facecolor('w')\n",
    "dataset['labeled_PRP'].value_counts()"
   ]
  },
  {
   "cell_type": "markdown",
   "metadata": {},
   "source": [
    "As we can see, we have far more A values than B values. Thus, this data is imbalanced"
   ]
  },
  {
   "cell_type": "markdown",
   "metadata": {},
   "source": [
    "### 4.d Up Sampling"
   ]
  },
  {
   "cell_type": "code",
   "execution_count": 23,
   "metadata": {},
   "outputs": [],
   "source": [
    "up_sampled_B = resample(dataset[dataset['labeled_PRP'] == 'B'], n_samples=(dataset['labeled_PRP'] == 'A').sum())\n",
    "df_upSampled = pd.concat((\n",
    "    up_sampled_B,\n",
    "    dataset[dataset['labeled_PRP'] == 'A']\n",
    ")).sample(frac=1).reset_index(drop=True)"
   ]
  },
  {
   "cell_type": "markdown",
   "metadata": {},
   "source": [
    "This method repeats the data that we have of the classes that their data counts are lower than the class with maximum data points so that every class have the same number of data points as the class with the maximum number of data points"
   ]
  },
  {
   "cell_type": "markdown",
   "metadata": {},
   "source": [
    "###  4.e Down Sampling"
   ]
  },
  {
   "cell_type": "code",
   "execution_count": 25,
   "metadata": {},
   "outputs": [],
   "source": [
    "up_sampled_A = resample(dataset[dataset['labeled_PRP'] == 'A'], n_samples=(dataset['labeled_PRP'] == 'B').sum())\n",
    "df_downSampled = pd.concat((\n",
    "    up_sampled_A,\n",
    "    dataset[dataset['labeled_PRP'] == 'B']\n",
    ")).sample(frac=1).reset_index(drop=True)"
   ]
  },
  {
   "cell_type": "markdown",
   "metadata": {},
   "source": [
    "This method randomly samples the data that we have of the classes that their data counts are higher than the class with minimum data points so that every class have the same number of data points as the class with the minimum number of data points"
   ]
  }
 ],
 "metadata": {
  "interpreter": {
   "hash": "31f2aee4e71d21fbe5cf8b01ff0e069b9275f58929596ceb00d14d90e3e16cd6"
  },
  "kernelspec": {
   "display_name": "Python 3.9.7 64-bit",
   "language": "python",
   "name": "python3"
  },
  "language_info": {
   "codemirror_mode": {
    "name": "ipython",
    "version": 3
   },
   "file_extension": ".py",
   "mimetype": "text/x-python",
   "name": "python",
   "nbconvert_exporter": "python",
   "pygments_lexer": "ipython3",
   "version": "3.9.7"
  },
  "orig_nbformat": 4
 },
 "nbformat": 4,
 "nbformat_minor": 2
}
