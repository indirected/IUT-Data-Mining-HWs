{
 "cells": [
  {
   "cell_type": "markdown",
   "metadata": {},
   "source": [
    "# Fundamentals of Data Mining - Practical Midterm\n",
    "## Mohammad Bahrami - 9724133"
   ]
  },
  {
   "cell_type": "markdown",
   "metadata": {},
   "source": [
    "### Imports and IO"
   ]
  },
  {
   "cell_type": "code",
   "execution_count": 1,
   "metadata": {},
   "outputs": [],
   "source": [
    "import pandas as pd\n",
    "import numpy as np\n",
    "import matplotlib.pyplot as plt\n",
    "import seaborn as sns"
   ]
  },
  {
   "cell_type": "code",
   "execution_count": 2,
   "metadata": {},
   "outputs": [
    {
     "name": "stdout",
     "output_type": "stream",
     "text": [
      "Missing Count: 0\n"
     ]
    },
    {
     "data": {
      "text/html": [
       "<div>\n",
       "<style scoped>\n",
       "    .dataframe tbody tr th:only-of-type {\n",
       "        vertical-align: middle;\n",
       "    }\n",
       "\n",
       "    .dataframe tbody tr th {\n",
       "        vertical-align: top;\n",
       "    }\n",
       "\n",
       "    .dataframe thead th {\n",
       "        text-align: right;\n",
       "    }\n",
       "</style>\n",
       "<table border=\"1\" class=\"dataframe\">\n",
       "  <thead>\n",
       "    <tr style=\"text-align: right;\">\n",
       "      <th></th>\n",
       "      <th>A1</th>\n",
       "      <th>A2</th>\n",
       "      <th>A3</th>\n",
       "      <th>A4</th>\n",
       "      <th>A5</th>\n",
       "      <th>A6</th>\n",
       "      <th>A7</th>\n",
       "      <th>A8</th>\n",
       "      <th>A9</th>\n",
       "      <th>A10</th>\n",
       "      <th>A11</th>\n",
       "      <th>A12</th>\n",
       "      <th>A13</th>\n",
       "      <th>A14</th>\n",
       "      <th>label</th>\n",
       "    </tr>\n",
       "  </thead>\n",
       "  <tbody>\n",
       "    <tr>\n",
       "      <th>0</th>\n",
       "      <td>1</td>\n",
       "      <td>22.08</td>\n",
       "      <td>11.46</td>\n",
       "      <td>2</td>\n",
       "      <td>4</td>\n",
       "      <td>4</td>\n",
       "      <td>1.585</td>\n",
       "      <td>0</td>\n",
       "      <td>0</td>\n",
       "      <td>0.0</td>\n",
       "      <td>1</td>\n",
       "      <td>2</td>\n",
       "      <td>100.0</td>\n",
       "      <td>1213.0</td>\n",
       "      <td>0.0</td>\n",
       "    </tr>\n",
       "    <tr>\n",
       "      <th>1</th>\n",
       "      <td>0</td>\n",
       "      <td>22.67</td>\n",
       "      <td>7.00</td>\n",
       "      <td>2</td>\n",
       "      <td>8</td>\n",
       "      <td>4</td>\n",
       "      <td>0.165</td>\n",
       "      <td>0</td>\n",
       "      <td>0</td>\n",
       "      <td>0.0</td>\n",
       "      <td>0</td>\n",
       "      <td>2</td>\n",
       "      <td>160.0</td>\n",
       "      <td>1.0</td>\n",
       "      <td>0.0</td>\n",
       "    </tr>\n",
       "    <tr>\n",
       "      <th>2</th>\n",
       "      <td>0</td>\n",
       "      <td>29.58</td>\n",
       "      <td>1.75</td>\n",
       "      <td>1</td>\n",
       "      <td>4</td>\n",
       "      <td>4</td>\n",
       "      <td>1.250</td>\n",
       "      <td>0</td>\n",
       "      <td>0</td>\n",
       "      <td>0.0</td>\n",
       "      <td>1</td>\n",
       "      <td>2</td>\n",
       "      <td>280.0</td>\n",
       "      <td>1.0</td>\n",
       "      <td>0.0</td>\n",
       "    </tr>\n",
       "    <tr>\n",
       "      <th>3</th>\n",
       "      <td>0</td>\n",
       "      <td>21.67</td>\n",
       "      <td>11.50</td>\n",
       "      <td>1</td>\n",
       "      <td>5</td>\n",
       "      <td>3</td>\n",
       "      <td>0.000</td>\n",
       "      <td>1</td>\n",
       "      <td>1</td>\n",
       "      <td>11.0</td>\n",
       "      <td>1</td>\n",
       "      <td>2</td>\n",
       "      <td>0.0</td>\n",
       "      <td>1.0</td>\n",
       "      <td>1.0</td>\n",
       "    </tr>\n",
       "    <tr>\n",
       "      <th>4</th>\n",
       "      <td>1</td>\n",
       "      <td>20.17</td>\n",
       "      <td>8.17</td>\n",
       "      <td>2</td>\n",
       "      <td>6</td>\n",
       "      <td>4</td>\n",
       "      <td>1.960</td>\n",
       "      <td>1</td>\n",
       "      <td>1</td>\n",
       "      <td>14.0</td>\n",
       "      <td>0</td>\n",
       "      <td>2</td>\n",
       "      <td>60.0</td>\n",
       "      <td>159.0</td>\n",
       "      <td>1.0</td>\n",
       "    </tr>\n",
       "  </tbody>\n",
       "</table>\n",
       "</div>"
      ],
      "text/plain": [
       "  A1     A2     A3 A4 A5 A6     A7 A8 A9   A10 A11 A12    A13     A14  label\n",
       "0  1  22.08  11.46  2  4  4  1.585  0  0   0.0   1   2  100.0  1213.0    0.0\n",
       "1  0  22.67   7.00  2  8  4  0.165  0  0   0.0   0   2  160.0     1.0    0.0\n",
       "2  0  29.58   1.75  1  4  4  1.250  0  0   0.0   1   2  280.0     1.0    0.0\n",
       "3  0  21.67  11.50  1  5  3  0.000  1  1  11.0   1   2    0.0     1.0    1.0\n",
       "4  1  20.17   8.17  2  6  4  1.960  1  1  14.0   0   2   60.0   159.0    1.0"
      ]
     },
     "execution_count": 2,
     "metadata": {},
     "output_type": "execute_result"
    }
   ],
   "source": [
    "column_names = [f'A{i}' for i in range(1, 16)]\n",
    "column_types = [str] + [float]*2 + [str]*3 + [float] + [str]*2 + [float] + [str]*2 + [float]*3\n",
    "\n",
    "# Reading the file\n",
    "dataset = pd.read_csv(\n",
    "    'australian.dat',\n",
    "    sep=' ',\n",
    "    header=None,\n",
    "    names=column_names,\n",
    "    dtype=dict(zip(column_names, column_types))\n",
    ")\n",
    "\n",
    "# Renaming target column to 'label'\n",
    "dataset = dataset.rename(columns={'A15': 'label'})\n",
    "\n",
    "# Checking for any missing value to be confident that there is none\n",
    "print(f'Missing Count: {dataset.isna().sum().sum()}')\n",
    "\n",
    "# Viewing the first few samples\n",
    "dataset.head()"
   ]
  },
  {
   "cell_type": "markdown",
   "metadata": {},
   "source": [
    "### Part c"
   ]
  },
  {
   "cell_type": "code",
   "execution_count": 3,
   "metadata": {},
   "outputs": [
    {
     "data": {
      "image/png": "[encoded data removed]",
      "text/plain": [
       "<Figure size 576x576 with 2 Axes>"
      ]
     },
     "metadata": {
      "needs_background": "light"
     },
     "output_type": "display_data"
    }
   ],
   "source": [
    "# First, we try to see if the numercial features have any correlation?\n",
    "fig, ax = plt.subplots()\n",
    "sns.heatmap(\n",
    "    data=dataset.corr(),\n",
    "    ax=ax,\n",
    "    annot=True\n",
    ")\n",
    "fig.set_size_inches((8, 8))"
   ]
  },
  {
   "cell_type": "markdown",
   "metadata": {},
   "source": [
    "We can see that the features don't have any significant linear correlation with each other. The features seem to have some correlation with the target value, with the highest correlation of 0.41 for the A10 attribute."
   ]
  },
  {
   "cell_type": "code",
   "execution_count": 4,
   "metadata": {},
   "outputs": [
    {
     "data": {
      "image/png": "[encoded data removed]",
      "text/plain": [
       "<Figure size 720x2880 with 16 Axes>"
      ]
     },
     "metadata": {},
     "output_type": "display_data"
    }
   ],
   "source": [
    "# Next, we can check for the correlation between the categorical values nd the target value with some bar plots.\n",
    "numeric_features = dataset.loc[:, dataset.columns != 'label'].select_dtypes(include=np.number).columns.to_list()\n",
    "non_numeric_features = dataset.select_dtypes(exclude=np.number).columns.to_list()\n",
    "\n",
    "fig, axs = plt.subplots(\n",
    "    nrows=len(non_numeric_features),\n",
    "    ncols=2,\n",
    "    squeeze=False,\n",
    "    figsize=(10, 5*len(non_numeric_features))\n",
    ")\n",
    "\n",
    "for c, categorical in enumerate(non_numeric_features):\n",
    "    cross = pd.crosstab(dataset[categorical].astype(int), dataset['label'])\n",
    "    cross.plot.bar(\n",
    "        stacked=True,\n",
    "        ax=axs[c, 0]\n",
    "    )\n",
    "    cross = pd.crosstab(dataset[categorical].astype(int), dataset['label'], normalize='index')\n",
    "    cross.plot.bar(\n",
    "        stacked=True,\n",
    "        ax=axs[c, 1]\n",
    "    )\n",
    "fig.set_facecolor('w')"
   ]
  },
  {
   "cell_type": "markdown",
   "metadata": {},
   "source": [
    "we can see that features `A4, A5, A6, A8, A9, A12` have direct relation with output value and `A1, A11`"
   ]
  },
  {
   "cell_type": "markdown",
   "metadata": {},
   "source": [
    "### Part d"
   ]
  },
  {
   "cell_type": "code",
   "execution_count": 7,
   "metadata": {},
   "outputs": [
    {
     "data": {
      "image/png": "[encoded data removed]",
      "text/plain": [
       "<Figure size 360x1080 with 6 Axes>"
      ]
     },
     "metadata": {
      "needs_background": "light"
     },
     "output_type": "display_data"
    }
   ],
   "source": [
    "fig, axs = plt.subplots(6, 1)\n",
    "dataset[numeric_features].hist(grid=True, ax=axs)\n",
    "fig.set_size_inches((5, 15))"
   ]
  },
  {
   "cell_type": "code",
   "execution_count": 8,
   "metadata": {},
   "outputs": [
    {
     "data": {
      "text/plain": [
       "A2      1.155935\n",
       "A3      1.488813\n",
       "A7      2.891330\n",
       "A10     5.152520\n",
       "A13     2.749912\n",
       "A14    13.140655\n",
       "dtype: float64"
      ]
     },
     "execution_count": 8,
     "metadata": {},
     "output_type": "execute_result"
    }
   ],
   "source": [
    "dataset[numeric_features].skew()"
   ]
  },
  {
   "cell_type": "markdown",
   "metadata": {},
   "source": [
    "We can see that the numeric features are highly skewed. to solve this we use `inverse square root` method."
   ]
  },
  {
   "cell_type": "code",
   "execution_count": 13,
   "metadata": {},
   "outputs": [],
   "source": [
    "dataset.loc[:, numeric_features] = dataset[numeric_features].apply(lambda z: (z+1e-6)**(-1/2))"
   ]
  },
  {
   "cell_type": "code",
   "execution_count": 15,
   "metadata": {},
   "outputs": [
    {
     "data": {
      "text/plain": [
       "A2    -0.046893\n",
       "A3     5.786888\n",
       "A7     2.645770\n",
       "A10   -0.293587\n",
       "A13    1.573082\n",
       "A14    0.039490\n",
       "dtype: float64"
      ]
     },
     "execution_count": 15,
     "metadata": {},
     "output_type": "execute_result"
    }
   ],
   "source": [
    "dataset[numeric_features].skew()"
   ]
  },
  {
   "cell_type": "code",
   "execution_count": 16,
   "metadata": {},
   "outputs": [
    {
     "data": {
      "text/html": [
       "<div>\n",
       "<style scoped>\n",
       "    .dataframe tbody tr th:only-of-type {\n",
       "        vertical-align: middle;\n",
       "    }\n",
       "\n",
       "    .dataframe tbody tr th {\n",
       "        vertical-align: top;\n",
       "    }\n",
       "\n",
       "    .dataframe thead th {\n",
       "        text-align: right;\n",
       "    }\n",
       "</style>\n",
       "<table border=\"1\" class=\"dataframe\">\n",
       "  <thead>\n",
       "    <tr style=\"text-align: right;\">\n",
       "      <th></th>\n",
       "      <th>A2</th>\n",
       "      <th>A3</th>\n",
       "      <th>A7</th>\n",
       "      <th>A10</th>\n",
       "      <th>A13</th>\n",
       "      <th>A14</th>\n",
       "      <th>label</th>\n",
       "    </tr>\n",
       "  </thead>\n",
       "  <tbody>\n",
       "    <tr>\n",
       "      <th>count</th>\n",
       "      <td>690.000000</td>\n",
       "      <td>690.000000</td>\n",
       "      <td>690.000000</td>\n",
       "      <td>690.000000</td>\n",
       "      <td>690.000000</td>\n",
       "      <td>690.000000</td>\n",
       "      <td>690.000000</td>\n",
       "    </tr>\n",
       "    <tr>\n",
       "      <th>mean</th>\n",
       "      <td>0.186416</td>\n",
       "      <td>28.290188</td>\n",
       "      <td>102.686824</td>\n",
       "      <td>572.714867</td>\n",
       "      <td>191.367415</td>\n",
       "      <td>0.518612</td>\n",
       "      <td>0.444928</td>\n",
       "    </tr>\n",
       "    <tr>\n",
       "      <th>std</th>\n",
       "      <td>0.031473</td>\n",
       "      <td>163.632770</td>\n",
       "      <td>301.727703</td>\n",
       "      <td>494.789283</td>\n",
       "      <td>393.582735</td>\n",
       "      <td>0.444119</td>\n",
       "      <td>0.497318</td>\n",
       "    </tr>\n",
       "    <tr>\n",
       "      <th>min</th>\n",
       "      <td>0.111629</td>\n",
       "      <td>0.188982</td>\n",
       "      <td>0.187317</td>\n",
       "      <td>0.122169</td>\n",
       "      <td>0.022361</td>\n",
       "      <td>0.003162</td>\n",
       "      <td>0.000000</td>\n",
       "    </tr>\n",
       "    <tr>\n",
       "      <th>25%</th>\n",
       "      <td>0.162850</td>\n",
       "      <td>0.372499</td>\n",
       "      <td>0.617213</td>\n",
       "      <td>0.577350</td>\n",
       "      <td>0.060634</td>\n",
       "      <td>0.050220</td>\n",
       "      <td>0.000000</td>\n",
       "    </tr>\n",
       "    <tr>\n",
       "      <th>50%</th>\n",
       "      <td>0.186908</td>\n",
       "      <td>0.603023</td>\n",
       "      <td>1.000000</td>\n",
       "      <td>1000.000000</td>\n",
       "      <td>0.079057</td>\n",
       "      <td>0.408248</td>\n",
       "      <td>0.000000</td>\n",
       "    </tr>\n",
       "    <tr>\n",
       "      <th>75%</th>\n",
       "      <td>0.210027</td>\n",
       "      <td>1.000000</td>\n",
       "      <td>2.461822</td>\n",
       "      <td>1000.000000</td>\n",
       "      <td>0.111803</td>\n",
       "      <td>1.000000</td>\n",
       "      <td>1.000000</td>\n",
       "    </tr>\n",
       "    <tr>\n",
       "      <th>max</th>\n",
       "      <td>0.269680</td>\n",
       "      <td>1000.000000</td>\n",
       "      <td>1000.000000</td>\n",
       "      <td>1000.000000</td>\n",
       "      <td>1000.000000</td>\n",
       "      <td>1.000000</td>\n",
       "      <td>1.000000</td>\n",
       "    </tr>\n",
       "  </tbody>\n",
       "</table>\n",
       "</div>"
      ],
      "text/plain": [
       "               A2           A3           A7          A10          A13  \\\n",
       "count  690.000000   690.000000   690.000000   690.000000   690.000000   \n",
       "mean     0.186416    28.290188   102.686824   572.714867   191.367415   \n",
       "std      0.031473   163.632770   301.727703   494.789283   393.582735   \n",
       "min      0.111629     0.188982     0.187317     0.122169     0.022361   \n",
       "25%      0.162850     0.372499     0.617213     0.577350     0.060634   \n",
       "50%      0.186908     0.603023     1.000000  1000.000000     0.079057   \n",
       "75%      0.210027     1.000000     2.461822  1000.000000     0.111803   \n",
       "max      0.269680  1000.000000  1000.000000  1000.000000  1000.000000   \n",
       "\n",
       "              A14       label  \n",
       "count  690.000000  690.000000  \n",
       "mean     0.518612    0.444928  \n",
       "std      0.444119    0.497318  \n",
       "min      0.003162    0.000000  \n",
       "25%      0.050220    0.000000  \n",
       "50%      0.408248    0.000000  \n",
       "75%      1.000000    1.000000  \n",
       "max      1.000000    1.000000  "
      ]
     },
     "execution_count": 16,
     "metadata": {},
     "output_type": "execute_result"
    }
   ],
   "source": [
    "dataset.describe()"
   ]
  },
  {
   "cell_type": "markdown",
   "metadata": {},
   "source": [
    "we can see that the data in each numerical column has different range of values."
   ]
  },
  {
   "cell_type": "code",
   "execution_count": 17,
   "metadata": {},
   "outputs": [],
   "source": [
    "# Z-Score Normalization of numerical values\n",
    "dataset.loc[:, numeric_features] = dataset.loc[:, numeric_features].apply(lambda z: (z - z.mean()) / z.std())"
   ]
  },
  {
   "cell_type": "code",
   "execution_count": 18,
   "metadata": {},
   "outputs": [
    {
     "data": {
      "text/html": [
       "<div>\n",
       "<style scoped>\n",
       "    .dataframe tbody tr th:only-of-type {\n",
       "        vertical-align: middle;\n",
       "    }\n",
       "\n",
       "    .dataframe tbody tr th {\n",
       "        vertical-align: top;\n",
       "    }\n",
       "\n",
       "    .dataframe thead th {\n",
       "        text-align: right;\n",
       "    }\n",
       "</style>\n",
       "<table border=\"1\" class=\"dataframe\">\n",
       "  <thead>\n",
       "    <tr style=\"text-align: right;\">\n",
       "      <th></th>\n",
       "      <th>A2</th>\n",
       "      <th>A3</th>\n",
       "      <th>A7</th>\n",
       "      <th>A10</th>\n",
       "      <th>A13</th>\n",
       "      <th>A14</th>\n",
       "      <th>label</th>\n",
       "    </tr>\n",
       "  </thead>\n",
       "  <tbody>\n",
       "    <tr>\n",
       "      <th>count</th>\n",
       "      <td>6.900000e+02</td>\n",
       "      <td>6.900000e+02</td>\n",
       "      <td>6.900000e+02</td>\n",
       "      <td>6.900000e+02</td>\n",
       "      <td>6.900000e+02</td>\n",
       "      <td>6.900000e+02</td>\n",
       "      <td>690.000000</td>\n",
       "    </tr>\n",
       "    <tr>\n",
       "      <th>mean</th>\n",
       "      <td>-7.118300e-16</td>\n",
       "      <td>9.010506e-18</td>\n",
       "      <td>-1.930823e-18</td>\n",
       "      <td>-1.029772e-17</td>\n",
       "      <td>6.436076e-18</td>\n",
       "      <td>8.753063e-17</td>\n",
       "      <td>0.444928</td>\n",
       "    </tr>\n",
       "    <tr>\n",
       "      <th>std</th>\n",
       "      <td>1.000000e+00</td>\n",
       "      <td>1.000000e+00</td>\n",
       "      <td>1.000000e+00</td>\n",
       "      <td>1.000000e+00</td>\n",
       "      <td>1.000000e+00</td>\n",
       "      <td>1.000000e+00</td>\n",
       "      <td>0.497318</td>\n",
       "    </tr>\n",
       "    <tr>\n",
       "      <th>min</th>\n",
       "      <td>-2.376189e+00</td>\n",
       "      <td>-1.717334e-01</td>\n",
       "      <td>-3.397086e-01</td>\n",
       "      <td>-1.157246e+00</td>\n",
       "      <td>-4.861622e-01</td>\n",
       "      <td>-1.160613e+00</td>\n",
       "      <td>0.000000</td>\n",
       "    </tr>\n",
       "    <tr>\n",
       "      <th>25%</th>\n",
       "      <td>-7.487621e-01</td>\n",
       "      <td>-1.706118e-01</td>\n",
       "      <td>-3.382839e-01</td>\n",
       "      <td>-1.156326e+00</td>\n",
       "      <td>-4.860650e-01</td>\n",
       "      <td>-1.054655e+00</td>\n",
       "      <td>0.000000</td>\n",
       "    </tr>\n",
       "    <tr>\n",
       "      <th>50%</th>\n",
       "      <td>1.564052e-02</td>\n",
       "      <td>-1.692031e-01</td>\n",
       "      <td>-3.370152e-01</td>\n",
       "      <td>8.635699e-01</td>\n",
       "      <td>-4.860182e-01</td>\n",
       "      <td>-2.485009e-01</td>\n",
       "      <td>0.000000</td>\n",
       "    </tr>\n",
       "    <tr>\n",
       "      <th>75%</th>\n",
       "      <td>7.501890e-01</td>\n",
       "      <td>-1.667770e-01</td>\n",
       "      <td>-3.321704e-01</td>\n",
       "      <td>8.635699e-01</td>\n",
       "      <td>-4.859350e-01</td>\n",
       "      <td>1.083916e+00</td>\n",
       "      <td>1.000000</td>\n",
       "    </tr>\n",
       "    <tr>\n",
       "      <th>max</th>\n",
       "      <td>2.645553e+00</td>\n",
       "      <td>5.938357e+00</td>\n",
       "      <td>2.973917e+00</td>\n",
       "      <td>8.635699e-01</td>\n",
       "      <td>2.054543e+00</td>\n",
       "      <td>1.083916e+00</td>\n",
       "      <td>1.000000</td>\n",
       "    </tr>\n",
       "  </tbody>\n",
       "</table>\n",
       "</div>"
      ],
      "text/plain": [
       "                 A2            A3            A7           A10           A13  \\\n",
       "count  6.900000e+02  6.900000e+02  6.900000e+02  6.900000e+02  6.900000e+02   \n",
       "mean  -7.118300e-16  9.010506e-18 -1.930823e-18 -1.029772e-17  6.436076e-18   \n",
       "std    1.000000e+00  1.000000e+00  1.000000e+00  1.000000e+00  1.000000e+00   \n",
       "min   -2.376189e+00 -1.717334e-01 -3.397086e-01 -1.157246e+00 -4.861622e-01   \n",
       "25%   -7.487621e-01 -1.706118e-01 -3.382839e-01 -1.156326e+00 -4.860650e-01   \n",
       "50%    1.564052e-02 -1.692031e-01 -3.370152e-01  8.635699e-01 -4.860182e-01   \n",
       "75%    7.501890e-01 -1.667770e-01 -3.321704e-01  8.635699e-01 -4.859350e-01   \n",
       "max    2.645553e+00  5.938357e+00  2.973917e+00  8.635699e-01  2.054543e+00   \n",
       "\n",
       "                A14       label  \n",
       "count  6.900000e+02  690.000000  \n",
       "mean   8.753063e-17    0.444928  \n",
       "std    1.000000e+00    0.497318  \n",
       "min   -1.160613e+00    0.000000  \n",
       "25%   -1.054655e+00    0.000000  \n",
       "50%   -2.485009e-01    0.000000  \n",
       "75%    1.083916e+00    1.000000  \n",
       "max    1.083916e+00    1.000000  "
      ]
     },
     "execution_count": 18,
     "metadata": {},
     "output_type": "execute_result"
    }
   ],
   "source": [
    "dataset.describe()"
   ]
  },
  {
   "cell_type": "code",
   "execution_count": 20,
   "metadata": {},
   "outputs": [
    {
     "name": "stdout",
     "output_type": "stream",
     "text": [
      "---- Outlier Count ----\n"
     ]
    },
    {
     "data": {
      "text/plain": [
       "A2      0\n",
       "A3     19\n",
       "A7      0\n",
       "A10     0\n",
       "A13     0\n",
       "A14     0\n",
       "dtype: int64"
      ]
     },
     "execution_count": 20,
     "metadata": {},
     "output_type": "execute_result"
    }
   ],
   "source": [
    "# Outlier Detection\n",
    "is_outlier = (dataset[numeric_features] > 3) | (dataset[numeric_features] < -3)\n",
    "print('---- Outlier Count ----')\n",
    "is_outlier.sum()"
   ]
  },
  {
   "cell_type": "code",
   "execution_count": 31,
   "metadata": {},
   "outputs": [
    {
     "data": {
      "text/html": [
       "<div>\n",
       "<style scoped>\n",
       "    .dataframe tbody tr th:only-of-type {\n",
       "        vertical-align: middle;\n",
       "    }\n",
       "\n",
       "    .dataframe tbody tr th {\n",
       "        vertical-align: top;\n",
       "    }\n",
       "\n",
       "    .dataframe thead th {\n",
       "        text-align: right;\n",
       "    }\n",
       "</style>\n",
       "<table border=\"1\" class=\"dataframe\">\n",
       "  <thead>\n",
       "    <tr style=\"text-align: right;\">\n",
       "      <th></th>\n",
       "      <th>A1</th>\n",
       "      <th>A2</th>\n",
       "      <th>A3</th>\n",
       "      <th>A4</th>\n",
       "      <th>A5</th>\n",
       "      <th>A6</th>\n",
       "      <th>A7</th>\n",
       "      <th>A8</th>\n",
       "      <th>A9</th>\n",
       "      <th>A10</th>\n",
       "      <th>A11</th>\n",
       "      <th>A12</th>\n",
       "      <th>A13</th>\n",
       "      <th>A14</th>\n",
       "      <th>label</th>\n",
       "    </tr>\n",
       "  </thead>\n",
       "  <tbody>\n",
       "    <tr>\n",
       "      <th>0</th>\n",
       "      <td>1</td>\n",
       "      <td>0.838758</td>\n",
       "      <td>-0.171083</td>\n",
       "      <td>2</td>\n",
       "      <td>4</td>\n",
       "      <td>4</td>\n",
       "      <td>-0.337697</td>\n",
       "      <td>0</td>\n",
       "      <td>0</td>\n",
       "      <td>0.863570</td>\n",
       "      <td>1</td>\n",
       "      <td>2</td>\n",
       "      <td>-0.485965</td>\n",
       "      <td>-1.103083</td>\n",
       "      <td>0.0</td>\n",
       "    </tr>\n",
       "    <tr>\n",
       "      <th>1</th>\n",
       "      <td>0</td>\n",
       "      <td>0.750189</td>\n",
       "      <td>-0.170578</td>\n",
       "      <td>2</td>\n",
       "      <td>8</td>\n",
       "      <td>4</td>\n",
       "      <td>-0.332170</td>\n",
       "      <td>0</td>\n",
       "      <td>0</td>\n",
       "      <td>0.863570</td>\n",
       "      <td>0</td>\n",
       "      <td>2</td>\n",
       "      <td>-0.486018</td>\n",
       "      <td>1.083916</td>\n",
       "      <td>0.0</td>\n",
       "    </tr>\n",
       "    <tr>\n",
       "      <th>2</th>\n",
       "      <td>0</td>\n",
       "      <td>-0.081016</td>\n",
       "      <td>-0.168269</td>\n",
       "      <td>1</td>\n",
       "      <td>4</td>\n",
       "      <td>4</td>\n",
       "      <td>-0.337365</td>\n",
       "      <td>0</td>\n",
       "      <td>0</td>\n",
       "      <td>0.863570</td>\n",
       "      <td>1</td>\n",
       "      <td>2</td>\n",
       "      <td>-0.486067</td>\n",
       "      <td>1.083916</td>\n",
       "      <td>0.0</td>\n",
       "    </tr>\n",
       "    <tr>\n",
       "      <th>3</th>\n",
       "      <td>0</td>\n",
       "      <td>0.902425</td>\n",
       "      <td>-0.171086</td>\n",
       "      <td>1</td>\n",
       "      <td>5</td>\n",
       "      <td>3</td>\n",
       "      <td>2.973917</td>\n",
       "      <td>1</td>\n",
       "      <td>1</td>\n",
       "      <td>-1.156883</td>\n",
       "      <td>1</td>\n",
       "      <td>2</td>\n",
       "      <td>2.054543</td>\n",
       "      <td>1.083916</td>\n",
       "      <td>1.0</td>\n",
       "    </tr>\n",
       "    <tr>\n",
       "      <th>4</th>\n",
       "      <td>1</td>\n",
       "      <td>1.151669</td>\n",
       "      <td>-0.170750</td>\n",
       "      <td>2</td>\n",
       "      <td>6</td>\n",
       "      <td>4</td>\n",
       "      <td>-0.337962</td>\n",
       "      <td>1</td>\n",
       "      <td>1</td>\n",
       "      <td>-1.156952</td>\n",
       "      <td>0</td>\n",
       "      <td>2</td>\n",
       "      <td>-0.485891</td>\n",
       "      <td>-0.989166</td>\n",
       "      <td>1.0</td>\n",
       "    </tr>\n",
       "    <tr>\n",
       "      <th>...</th>\n",
       "      <td>...</td>\n",
       "      <td>...</td>\n",
       "      <td>...</td>\n",
       "      <td>...</td>\n",
       "      <td>...</td>\n",
       "      <td>...</td>\n",
       "      <td>...</td>\n",
       "      <td>...</td>\n",
       "      <td>...</td>\n",
       "      <td>...</td>\n",
       "      <td>...</td>\n",
       "      <td>...</td>\n",
       "      <td>...</td>\n",
       "      <td>...</td>\n",
       "      <td>...</td>\n",
       "    </tr>\n",
       "    <tr>\n",
       "      <th>632</th>\n",
       "      <td>1</td>\n",
       "      <td>-0.268136</td>\n",
       "      <td>-0.171002</td>\n",
       "      <td>2</td>\n",
       "      <td>14</td>\n",
       "      <td>4</td>\n",
       "      <td>-0.339029</td>\n",
       "      <td>1</td>\n",
       "      <td>0</td>\n",
       "      <td>0.863570</td>\n",
       "      <td>0</td>\n",
       "      <td>2</td>\n",
       "      <td>2.054543</td>\n",
       "      <td>1.083916</td>\n",
       "      <td>1.0</td>\n",
       "    </tr>\n",
       "    <tr>\n",
       "      <th>633</th>\n",
       "      <td>1</td>\n",
       "      <td>1.065579</td>\n",
       "      <td>-0.163402</td>\n",
       "      <td>2</td>\n",
       "      <td>8</td>\n",
       "      <td>4</td>\n",
       "      <td>-0.330955</td>\n",
       "      <td>0</td>\n",
       "      <td>0</td>\n",
       "      <td>0.863570</td>\n",
       "      <td>0</td>\n",
       "      <td>2</td>\n",
       "      <td>2.054543</td>\n",
       "      <td>-0.832077</td>\n",
       "      <td>0.0</td>\n",
       "    </tr>\n",
       "    <tr>\n",
       "      <th>634</th>\n",
       "      <td>0</td>\n",
       "      <td>1.399070</td>\n",
       "      <td>-0.170910</td>\n",
       "      <td>2</td>\n",
       "      <td>6</td>\n",
       "      <td>4</td>\n",
       "      <td>-0.328962</td>\n",
       "      <td>1</td>\n",
       "      <td>0</td>\n",
       "      <td>0.863570</td>\n",
       "      <td>0</td>\n",
       "      <td>2</td>\n",
       "      <td>-0.485965</td>\n",
       "      <td>1.083916</td>\n",
       "      <td>1.0</td>\n",
       "    </tr>\n",
       "    <tr>\n",
       "      <th>635</th>\n",
       "      <td>0</td>\n",
       "      <td>0.144721</td>\n",
       "      <td>-0.171283</td>\n",
       "      <td>2</td>\n",
       "      <td>14</td>\n",
       "      <td>8</td>\n",
       "      <td>-0.338443</td>\n",
       "      <td>1</td>\n",
       "      <td>1</td>\n",
       "      <td>-1.155471</td>\n",
       "      <td>0</td>\n",
       "      <td>2</td>\n",
       "      <td>-0.485987</td>\n",
       "      <td>-0.517738</td>\n",
       "      <td>1.0</td>\n",
       "    </tr>\n",
       "    <tr>\n",
       "      <th>636</th>\n",
       "      <td>1</td>\n",
       "      <td>-0.960874</td>\n",
       "      <td>-0.142332</td>\n",
       "      <td>2</td>\n",
       "      <td>10</td>\n",
       "      <td>4</td>\n",
       "      <td>-0.323758</td>\n",
       "      <td>0</td>\n",
       "      <td>1</td>\n",
       "      <td>-1.155471</td>\n",
       "      <td>0</td>\n",
       "      <td>1</td>\n",
       "      <td>-0.486112</td>\n",
       "      <td>1.083916</td>\n",
       "      <td>1.0</td>\n",
       "    </tr>\n",
       "  </tbody>\n",
       "</table>\n",
       "<p>637 rows × 15 columns</p>\n",
       "</div>"
      ],
      "text/plain": [
       "    A1        A2        A3 A4  A5 A6        A7 A8 A9       A10 A11 A12  \\\n",
       "0    1  0.838758 -0.171083  2   4  4 -0.337697  0  0  0.863570   1   2   \n",
       "1    0  0.750189 -0.170578  2   8  4 -0.332170  0  0  0.863570   0   2   \n",
       "2    0 -0.081016 -0.168269  1   4  4 -0.337365  0  0  0.863570   1   2   \n",
       "3    0  0.902425 -0.171086  1   5  3  2.973917  1  1 -1.156883   1   2   \n",
       "4    1  1.151669 -0.170750  2   6  4 -0.337962  1  1 -1.156952   0   2   \n",
       "..  ..       ...       ... ..  .. ..       ... .. ..       ...  ..  ..   \n",
       "632  1 -0.268136 -0.171002  2  14  4 -0.339029  1  0  0.863570   0   2   \n",
       "633  1  1.065579 -0.163402  2   8  4 -0.330955  0  0  0.863570   0   2   \n",
       "634  0  1.399070 -0.170910  2   6  4 -0.328962  1  0  0.863570   0   2   \n",
       "635  0  0.144721 -0.171283  2  14  8 -0.338443  1  1 -1.155471   0   2   \n",
       "636  1 -0.960874 -0.142332  2  10  4 -0.323758  0  1 -1.155471   0   1   \n",
       "\n",
       "          A13       A14  label  \n",
       "0   -0.485965 -1.103083    0.0  \n",
       "1   -0.486018  1.083916    0.0  \n",
       "2   -0.486067  1.083916    0.0  \n",
       "3    2.054543  1.083916    1.0  \n",
       "4   -0.485891 -0.989166    1.0  \n",
       "..        ...       ...    ...  \n",
       "632  2.054543  1.083916    1.0  \n",
       "633  2.054543 -0.832077    0.0  \n",
       "634 -0.485965  1.083916    1.0  \n",
       "635 -0.485987 -0.517738    1.0  \n",
       "636 -0.486112  1.083916    1.0  \n",
       "\n",
       "[637 rows x 15 columns]"
      ]
     },
     "execution_count": 31,
     "metadata": {},
     "output_type": "execute_result"
    }
   ],
   "source": [
    "# We need to check that why there are outliers in the data, but because I have no information in the financial field\n",
    "# and the columns' names has been anonymized, I just remove the rows with outliers in them.\n",
    "dataset = dataset.drop(index = dataset.loc[np.any(is_outlier, axis=1), :].index).reset_index(drop=True)\n",
    "dataset"
   ]
  },
  {
   "cell_type": "code",
   "execution_count": 32,
   "metadata": {},
   "outputs": [
    {
     "data": {
      "text/plain": [
       "A2    -0.019725\n",
       "A3     3.091032\n",
       "A7     2.849681\n",
       "A10   -0.244120\n",
       "A13    1.597641\n",
       "A14    0.076837\n",
       "dtype: float64"
      ]
     },
     "execution_count": 32,
     "metadata": {},
     "output_type": "execute_result"
    }
   ],
   "source": [
    "# We check to see if the skewness of column A3 was because of these outliers\n",
    "dataset[numeric_features].skew()\n",
    "# some of it was!"
   ]
  },
  {
   "cell_type": "markdown",
   "metadata": {},
   "source": [
    "### Part e"
   ]
  },
  {
   "cell_type": "markdown",
   "metadata": {},
   "source": [
    "#### Pre-Modeling"
   ]
  },
  {
   "cell_type": "code",
   "execution_count": 35,
   "metadata": {},
   "outputs": [],
   "source": [
    "# One hot encoding the Categorical features\n",
    "one_hotted_dataset = pd.get_dummies(dataset, columns=non_numeric_features)"
   ]
  },
  {
   "cell_type": "code",
   "execution_count": 36,
   "metadata": {},
   "outputs": [],
   "source": [
    "# Spliting the Data into Train and Test\n",
    "from sklearn.model_selection import train_test_split\n",
    "train_df, test_df = train_test_split(one_hotted_dataset, test_size=0.2)"
   ]
  },
  {
   "cell_type": "code",
   "execution_count": 60,
   "metadata": {},
   "outputs": [],
   "source": [
    "# Seperating the X, Y\n",
    "X_train = train_df.loc[:, train_df.columns != 'label'].to_numpy()\n",
    "Y_train = train_df['label'].to_numpy()\n",
    "X_test = test_df.loc[:, test_df.columns != 'label'].to_numpy()\n",
    "Y_test = test_df['label'].to_numpy()"
   ]
  },
  {
   "cell_type": "code",
   "execution_count": 61,
   "metadata": {},
   "outputs": [],
   "source": [
    "# I will use K-Fold Cross Validation from the sklearn to fine tune my hyperparameters\n",
    "from sklearn.model_selection import KFold, cross_validate\n",
    "kfold = KFold(n_splits=10)"
   ]
  },
  {
   "cell_type": "markdown",
   "metadata": {},
   "source": [
    "#### Modeling"
   ]
  },
  {
   "cell_type": "code",
   "execution_count": null,
   "metadata": {},
   "outputs": [],
   "source": [
    "#e1: MLP"
   ]
  },
  {
   "cell_type": "code",
   "execution_count": null,
   "metadata": {},
   "outputs": [],
   "source": [
    "from sklearn.neural_network import MLPClassifier\n",
    "mlp = MLPClassifier(\n",
    "    hidden_layer_sizes=(100, 50),\n",
    "    alpha=0.01,\n",
    "    max_iter=200\n",
    ").fit(X_train, Y_train)\n",
    "validation_results = cross_validate(mlp, X_train, Y_train, cv=kfold, return_train_score=True, return_estimator=True)"
   ]
  },
  {
   "cell_type": "code",
   "execution_count": 72,
   "metadata": {},
   "outputs": [
    {
     "data": {
      "text/plain": [
       "'Train Accuracy: 0.987993644813578 - Validation Accuracy: 0.8368627450980393'"
      ]
     },
     "execution_count": 72,
     "metadata": {},
     "output_type": "execute_result"
    }
   ],
   "source": [
    "f'Train Accuracy: {validation_results[\"train_score\"].mean()} - Validation Accuracy: {validation_results[\"test_score\"].mean()}'"
   ]
  },
  {
   "cell_type": "code",
   "execution_count": 81,
   "metadata": {},
   "outputs": [
    {
     "name": "stdout",
     "output_type": "stream",
     "text": [
      "MLP Accuracy:  86.72\n"
     ]
    },
    {
     "name": "stderr",
     "output_type": "stream",
     "text": [
      "/home/indirected/.local/lib/python3.10/site-packages/sklearn/neural_network/_multilayer_perceptron.py:692: ConvergenceWarning: Stochastic Optimizer: Maximum iterations (200) reached and the optimization hasn't converged yet.\n",
      "  warnings.warn(\n"
     ]
    },
    {
     "data": {
      "text/plain": [
       "<sklearn.metrics._plot.confusion_matrix.ConfusionMatrixDisplay at 0x7fe5deb05990>"
      ]
     },
     "execution_count": 81,
     "metadata": {},
     "output_type": "execute_result"
    },
    {
     "data": {
      "image/png": "[encoded data removed]",
      "text/plain": [
       "<Figure size 432x288 with 2 Axes>"
      ]
     },
     "metadata": {
      "needs_background": "light"
     },
     "output_type": "display_data"
    }
   ],
   "source": [
    "from sklearn.metrics import confusion_matrix, ConfusionMatrixDisplay\n",
    "mlp.fit(X_train, Y_train)\n",
    "print(f'MLP Accuracy: {mlp.score(X_test, Y_test)*100: .2f}')\n",
    "cm = confusion_matrix(Y_test, mlp.predict(X_test))\n",
    "ConfusionMatrixDisplay(cm).plot()"
   ]
  },
  {
   "cell_type": "code",
   "execution_count": 77,
   "metadata": {},
   "outputs": [
    {
     "data": {
      "text/plain": [
       "'Precision: 0.84375 - Recall: 0.8852459016393442 - F1: 0.864'"
      ]
     },
     "execution_count": 77,
     "metadata": {},
     "output_type": "execute_result"
    }
   ],
   "source": [
    "from sklearn.metrics import precision_score, recall_score, f1_score\n",
    "recall = recall_score(Y_test, mlp.predict(X_test))\n",
    "precision  = precision_score(Y_test, mlp.predict(X_test))\n",
    "f1  = f1_score(Y_test, mlp.predict(X_test))\n",
    "f'Precision: {precision} - Recall: {recall} - F1: {f1}'"
   ]
  },
  {
   "cell_type": "code",
   "execution_count": null,
   "metadata": {},
   "outputs": [],
   "source": [
    "#e2: SVM"
   ]
  },
  {
   "cell_type": "code",
   "execution_count": 84,
   "metadata": {},
   "outputs": [],
   "source": [
    "from sklearn.svm import SVC\n",
    "svm = SVC(\n",
    "    C=0.5,\n",
    ").fit(X_train, Y_train)\n",
    "validation_results = cross_validate(svm, X_train, Y_train, cv=kfold, return_train_score=True, return_estimator=True)"
   ]
  },
  {
   "cell_type": "code",
   "execution_count": 85,
   "metadata": {},
   "outputs": [
    {
     "data": {
      "text/plain": [
       "'Train Accuracy: 0.9026405419033212 - Validation Accuracy: 0.870313725490196'"
      ]
     },
     "execution_count": 85,
     "metadata": {},
     "output_type": "execute_result"
    }
   ],
   "source": [
    "f'Train Accuracy: {validation_results[\"train_score\"].mean()} - Validation Accuracy: {validation_results[\"test_score\"].mean()}'"
   ]
  },
  {
   "cell_type": "code",
   "execution_count": 86,
   "metadata": {},
   "outputs": [
    {
     "name": "stdout",
     "output_type": "stream",
     "text": [
      "SVM Accuracy:  88.28\n"
     ]
    },
    {
     "data": {
      "text/plain": [
       "<sklearn.metrics._plot.confusion_matrix.ConfusionMatrixDisplay at 0x7fe5de2f7e80>"
      ]
     },
     "execution_count": 86,
     "metadata": {},
     "output_type": "execute_result"
    },
    {
     "data": {
      "image/png": "[encoded data removed]",
      "text/plain": [
       "<Figure size 432x288 with 2 Axes>"
      ]
     },
     "metadata": {
      "needs_background": "light"
     },
     "output_type": "display_data"
    }
   ],
   "source": [
    "from sklearn.metrics import confusion_matrix, ConfusionMatrixDisplay\n",
    "svm.fit(X_train, Y_train)\n",
    "print(f'SVM Accuracy: {svm.score(X_test, Y_test)*100: .2f}')\n",
    "cm = confusion_matrix(Y_test, svm.predict(X_test))\n",
    "ConfusionMatrixDisplay(cm).plot()"
   ]
  },
  {
   "cell_type": "code",
   "execution_count": 87,
   "metadata": {},
   "outputs": [
    {
     "data": {
      "text/plain": [
       "'Precision: 0.8484848484848485 - Recall: 0.9180327868852459 - F1: 0.8818897637795275'"
      ]
     },
     "execution_count": 87,
     "metadata": {},
     "output_type": "execute_result"
    }
   ],
   "source": [
    "from sklearn.metrics import precision_score, recall_score, f1_score\n",
    "recall = recall_score(Y_test, svm.predict(X_test))\n",
    "precision  = precision_score(Y_test, svm.predict(X_test))\n",
    "f1  = f1_score(Y_test, svm.predict(X_test))\n",
    "f'Precision: {precision} - Recall: {recall} - F1: {f1}'"
   ]
  },
  {
   "cell_type": "code",
   "execution_count": null,
   "metadata": {},
   "outputs": [],
   "source": [
    "#e3: KNN"
   ]
  },
  {
   "cell_type": "code",
   "execution_count": 102,
   "metadata": {},
   "outputs": [],
   "source": [
    "from sklearn.neighbors import KNeighborsClassifier\n",
    "mlp = KNeighborsClassifier(\n",
    "    n_neighbors=5\n",
    ").fit(X_train, Y_train)\n",
    "validation_results = cross_validate(mlp, X_train, Y_train, cv=kfold, return_train_score=True, return_estimator=True)"
   ]
  },
  {
   "cell_type": "code",
   "execution_count": 103,
   "metadata": {},
   "outputs": [
    {
     "data": {
      "text/plain": [
       "'Train Accuracy: 0.8821208056245302 - Validation Accuracy: 0.8545490196078432'"
      ]
     },
     "execution_count": 103,
     "metadata": {},
     "output_type": "execute_result"
    }
   ],
   "source": [
    "f'Train Accuracy: {validation_results[\"train_score\"].mean()} - Validation Accuracy: {validation_results[\"test_score\"].mean()}'"
   ]
  },
  {
   "cell_type": "code",
   "execution_count": 106,
   "metadata": {},
   "outputs": [
    {
     "name": "stdout",
     "output_type": "stream",
     "text": [
      "KNN Accuracy:  89.06\n"
     ]
    },
    {
     "data": {
      "text/plain": [
       "<sklearn.metrics._plot.confusion_matrix.ConfusionMatrixDisplay at 0x7fe5e6b0a590>"
      ]
     },
     "execution_count": 106,
     "metadata": {},
     "output_type": "execute_result"
    },
    {
     "data": {
      "image/png": "[encoded data removed]",
      "text/plain": [
       "<Figure size 432x288 with 2 Axes>"
      ]
     },
     "metadata": {
      "needs_background": "light"
     },
     "output_type": "display_data"
    }
   ],
   "source": [
    "from sklearn.metrics import confusion_matrix, ConfusionMatrixDisplay\n",
    "mlp.fit(X_train, Y_train)\n",
    "print(f'KNN Accuracy: {mlp.score(X_test, Y_test)*100: .2f}')\n",
    "cm = confusion_matrix(Y_test, mlp.predict(X_test))\n",
    "ConfusionMatrixDisplay(cm).plot()"
   ]
  },
  {
   "cell_type": "code",
   "execution_count": 105,
   "metadata": {},
   "outputs": [
    {
     "data": {
      "text/plain": [
       "'Precision: 0.8507462686567164 - Recall: 0.9344262295081968 - F1: 0.8906250000000001'"
      ]
     },
     "execution_count": 105,
     "metadata": {},
     "output_type": "execute_result"
    }
   ],
   "source": [
    "from sklearn.metrics import precision_score, recall_score, f1_score\n",
    "recall = recall_score(Y_test, mlp.predict(X_test))\n",
    "precision  = precision_score(Y_test, mlp.predict(X_test))\n",
    "f1  = f1_score(Y_test, mlp.predict(X_test))\n",
    "f'Precision: {precision} - Recall: {recall} - F1: {f1}'"
   ]
  },
  {
   "cell_type": "markdown",
   "metadata": {},
   "source": [
    "### Part f"
   ]
  },
  {
   "cell_type": "code",
   "execution_count": 109,
   "metadata": {},
   "outputs": [
    {
     "name": "stderr",
     "output_type": "stream",
     "text": [
      "/home/indirected/.local/lib/python3.10/site-packages/sklearn/neural_network/_multilayer_perceptron.py:692: ConvergenceWarning: Stochastic Optimizer: Maximum iterations (200) reached and the optimization hasn't converged yet.\n",
      "  warnings.warn(\n",
      "/home/indirected/.local/lib/python3.10/site-packages/sklearn/neural_network/_multilayer_perceptron.py:692: ConvergenceWarning: Stochastic Optimizer: Maximum iterations (200) reached and the optimization hasn't converged yet.\n",
      "  warnings.warn(\n",
      "/home/indirected/.local/lib/python3.10/site-packages/sklearn/neural_network/_multilayer_perceptron.py:692: ConvergenceWarning: Stochastic Optimizer: Maximum iterations (200) reached and the optimization hasn't converged yet.\n",
      "  warnings.warn(\n",
      "/home/indirected/.local/lib/python3.10/site-packages/sklearn/neural_network/_multilayer_perceptron.py:692: ConvergenceWarning: Stochastic Optimizer: Maximum iterations (200) reached and the optimization hasn't converged yet.\n",
      "  warnings.warn(\n",
      "/home/indirected/.local/lib/python3.10/site-packages/sklearn/neural_network/_multilayer_perceptron.py:692: ConvergenceWarning: Stochastic Optimizer: Maximum iterations (200) reached and the optimization hasn't converged yet.\n",
      "  warnings.warn(\n",
      "/home/indirected/.local/lib/python3.10/site-packages/sklearn/neural_network/_multilayer_perceptron.py:692: ConvergenceWarning: Stochastic Optimizer: Maximum iterations (200) reached and the optimization hasn't converged yet.\n",
      "  warnings.warn(\n",
      "/home/indirected/.local/lib/python3.10/site-packages/sklearn/neural_network/_multilayer_perceptron.py:692: ConvergenceWarning: Stochastic Optimizer: Maximum iterations (200) reached and the optimization hasn't converged yet.\n",
      "  warnings.warn(\n",
      "/home/indirected/.local/lib/python3.10/site-packages/sklearn/neural_network/_multilayer_perceptron.py:692: ConvergenceWarning: Stochastic Optimizer: Maximum iterations (200) reached and the optimization hasn't converged yet.\n",
      "  warnings.warn(\n",
      "/home/indirected/.local/lib/python3.10/site-packages/sklearn/neural_network/_multilayer_perceptron.py:692: ConvergenceWarning: Stochastic Optimizer: Maximum iterations (200) reached and the optimization hasn't converged yet.\n",
      "  warnings.warn(\n",
      "/home/indirected/.local/lib/python3.10/site-packages/sklearn/neural_network/_multilayer_perceptron.py:692: ConvergenceWarning: Stochastic Optimizer: Maximum iterations (200) reached and the optimization hasn't converged yet.\n",
      "  warnings.warn(\n",
      "/home/indirected/.local/lib/python3.10/site-packages/sklearn/neural_network/_multilayer_perceptron.py:692: ConvergenceWarning: Stochastic Optimizer: Maximum iterations (200) reached and the optimization hasn't converged yet.\n",
      "  warnings.warn(\n"
     ]
    }
   ],
   "source": [
    "from sklearn.ensemble import StackingClassifier\n",
    "stacker = StackingClassifier(\n",
    "    estimators=[\n",
    "        ('MLP', MLPClassifier(hidden_layer_sizes=(100, 50), alpha=0.01, max_iter=200)),\n",
    "        ('SVM', SVC(C=0.5,)),\n",
    "        ('KNN', KNeighborsClassifier(n_neighbors=5))\n",
    "    ],\n",
    "    final_estimator=SVC(),\n",
    "    cv=kfold\n",
    ").fit(X_train, Y_train)"
   ]
  },
  {
   "cell_type": "code",
   "execution_count": 110,
   "metadata": {},
   "outputs": [
    {
     "name": "stdout",
     "output_type": "stream",
     "text": [
      "Stacking Accuracy:  88.28\n"
     ]
    },
    {
     "data": {
      "text/plain": [
       "<sklearn.metrics._plot.confusion_matrix.ConfusionMatrixDisplay at 0x7fe5dda2aa70>"
      ]
     },
     "execution_count": 110,
     "metadata": {},
     "output_type": "execute_result"
    },
    {
     "data": {
      "image/png": "[encoded data removed]",
      "text/plain": [
       "<Figure size 432x288 with 2 Axes>"
      ]
     },
     "metadata": {
      "needs_background": "light"
     },
     "output_type": "display_data"
    }
   ],
   "source": [
    "from sklearn.metrics import confusion_matrix, ConfusionMatrixDisplay\n",
    "print(f'Stacking Accuracy: {stacker.score(X_test, Y_test)*100: .2f}')\n",
    "cm = confusion_matrix(Y_test, stacker.predict(X_test))\n",
    "ConfusionMatrixDisplay(cm).plot()"
   ]
  },
  {
   "cell_type": "code",
   "execution_count": 111,
   "metadata": {},
   "outputs": [
    {
     "data": {
      "text/plain": [
       "'Precision: 0.8507462686567164 - Recall: 0.9344262295081968 - F1: 0.8906250000000001'"
      ]
     },
     "execution_count": 111,
     "metadata": {},
     "output_type": "execute_result"
    }
   ],
   "source": [
    "from sklearn.metrics import precision_score, recall_score, f1_score\n",
    "recall = recall_score(Y_test, mlp.predict(X_test))\n",
    "precision  = precision_score(Y_test, mlp.predict(X_test))\n",
    "f1  = f1_score(Y_test, mlp.predict(X_test))\n",
    "f'Precision: {precision} - Recall: {recall} - F1: {f1}'"
   ]
  }
 ],
 "metadata": {
  "interpreter": {
   "hash": "31f2aee4e71d21fbe5cf8b01ff0e069b9275f58929596ceb00d14d90e3e16cd6"
  },
  "kernelspec": {
   "display_name": "Python 3.10.4 64-bit",
   "language": "python",
   "name": "python3"
  },
  "language_info": {
   "codemirror_mode": {
    "name": "ipython",
    "version": 3
   },
   "file_extension": ".py",
   "mimetype": "text/x-python",
   "name": "python",
   "nbconvert_exporter": "python",
   "pygments_lexer": "ipython3",
   "version": "3.10.4"
  },
  "orig_nbformat": 4
 },
 "nbformat": 4,
 "nbformat_minor": 2
}
