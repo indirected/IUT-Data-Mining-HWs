{
 "cells": [
  {
   "cell_type": "markdown",
   "metadata": {},
   "source": [
    "# Data Mining - Homework 4\n",
    "## Mohammad Bahrami - 9724133\n",
    "### Question 2"
   ]
  },
  {
   "cell_type": "code",
   "execution_count": 3,
   "metadata": {},
   "outputs": [],
   "source": [
    "import pandas as pd\n",
    "import numpy as np\n",
    "import matplotlib.pyplot as plt"
   ]
  },
  {
   "cell_type": "markdown",
   "metadata": {},
   "source": [
    "#### Preprocessing"
   ]
  },
  {
   "cell_type": "code",
   "execution_count": 4,
   "metadata": {},
   "outputs": [
    {
     "data": {
      "text/plain": [
       "Channel             0\n",
       "Region              0\n",
       "Fresh               0\n",
       "Milk                0\n",
       "Grocery             0\n",
       "Frozen              0\n",
       "Detergents_Paper    0\n",
       "Delicassen          0\n",
       "dtype: int64"
      ]
     },
     "execution_count": 4,
     "metadata": {},
     "output_type": "execute_result"
    }
   ],
   "source": [
    "dataset = pd.read_csv('Wholesale customers data.csv')\n",
    "dataset.isna().sum()"
   ]
  },
  {
   "cell_type": "markdown",
   "metadata": {},
   "source": [
    "There are no `Nan` Values in the dataset."
   ]
  },
  {
   "cell_type": "code",
   "execution_count": 5,
   "metadata": {},
   "outputs": [],
   "source": [
    "numeric_columns = ['Fresh', 'Milk', 'Grocery', 'Frozen', 'Detergents_Paper', 'Delicassen']\n",
    "dataset.loc[:, numeric_columns] = dataset.loc[:, numeric_columns].apply(\n",
    "    lambda z: (z - z.mean()) / z.std()\n",
    ")"
   ]
  },
  {
   "cell_type": "code",
   "execution_count": 6,
   "metadata": {},
   "outputs": [],
   "source": [
    "dataset = dataset.drop(\n",
    "    index=dataset.loc[((dataset.loc[:, numeric_columns] > 3) | (dataset.loc[:, numeric_columns] < -3)).any(axis=1)].index\n",
    ").reset_index(drop=True)"
   ]
  },
  {
   "cell_type": "code",
   "execution_count": 7,
   "metadata": {},
   "outputs": [],
   "source": [
    "from sklearn.decomposition import PCA\n",
    "pca = PCA(n_components=2).fit(dataset)\n",
    "pca_df = pd.DataFrame(pca.transform(dataset))"
   ]
  },
  {
   "cell_type": "markdown",
   "metadata": {},
   "source": [
    "#### Part a"
   ]
  },
  {
   "cell_type": "code",
   "execution_count": 25,
   "metadata": {},
   "outputs": [],
   "source": [
    "from sklearn.cluster import AgglomerativeClustering\n",
    "ward_clusterer = AgglomerativeClustering(n_clusters=None, linkage='ward', distance_threshold=0).fit(pca_df)"
   ]
  },
  {
   "cell_type": "code",
   "execution_count": 27,
   "metadata": {},
   "outputs": [],
   "source": [
    "counts = np.zeros(ward_clusterer.children_.shape[0])\n",
    "n_samples = pca_df.shape[0]\n",
    "for i, merge in enumerate(ward_clusterer.children_):\n",
    "    current_count = 0\n",
    "    for child_idx in merge:\n",
    "        if child_idx < n_samples:\n",
    "            current_count += 1  # leaf node\n",
    "        else:\n",
    "            current_count += counts[child_idx - n_samples]\n",
    "    counts[i] = current_count\n",
    "\n",
    "linkage_matrix = np.column_stack(\n",
    "    [ward_clusterer.children_, ward_clusterer.distances_, counts]\n",
    ").astype(float)\n",
    "#Code Source: Sklearn Documention Examples"
   ]
  },
  {
   "cell_type": "code",
   "execution_count": 58,
   "metadata": {},
   "outputs": [
    {
     "data": {
      "image/png": "[encoded data removed]",
      "text/plain": [
       "<Figure size 864x504 with 1 Axes>"
      ]
     },
     "metadata": {
      "needs_background": "light"
     },
     "output_type": "display_data"
    }
   ],
   "source": [
    "from scipy.cluster.hierarchy import dendrogram\n",
    "fig, ax = plt.subplots()\n",
    "dendrogram(\n",
    "    linkage_matrix,\n",
    "    truncate_mode='level',\n",
    "    p=4,\n",
    ")\n",
    "fig.set_size_inches((12, 7))"
   ]
  },
  {
   "cell_type": "markdown",
   "metadata": {},
   "source": [
    "#### Part b"
   ]
  },
  {
   "cell_type": "code",
   "execution_count": 61,
   "metadata": {},
   "outputs": [],
   "source": [
    "from sklearn.metrics import silhouette_score\n",
    "k_range = np.arange(2, 11)\n",
    "silh_list = []\n",
    "for k in k_range:\n",
    "    clusterer = AgglomerativeClustering(n_clusters=k, linkage='ward').fit(pca_df)\n",
    "    silh_list.append(\n",
    "        silhouette_score(\n",
    "            pca_df,\n",
    "            clusterer.labels_,\n",
    "            metric='euclidean'\n",
    "        )\n",
    "    )"
   ]
  },
  {
   "cell_type": "code",
   "execution_count": 63,
   "metadata": {},
   "outputs": [
    {
     "data": {
      "image/png": "[encoded data removed]",
      "text/plain": [
       "<Figure size 864x504 with 1 Axes>"
      ]
     },
     "metadata": {
      "needs_background": "light"
     },
     "output_type": "display_data"
    }
   ],
   "source": [
    "fig, ax = plt.subplots()\n",
    "ax.bar(\n",
    "    k_range,\n",
    "    silh_list\n",
    ")\n",
    "fig.set_size_inches((12, 7))"
   ]
  },
  {
   "cell_type": "code",
   "execution_count": 69,
   "metadata": {},
   "outputs": [
    {
     "name": "stdout",
     "output_type": "stream",
     "text": [
      "Highest Silhouette Score: 0.4289 at K: 2\n"
     ]
    }
   ],
   "source": [
    "optimum_k = np.argmax(silh_list) + k_range[0]\n",
    "print(f'Highest Silhouette Score: {np.max(silh_list):.4f} at K: {optimum_k}')"
   ]
  },
  {
   "cell_type": "markdown",
   "metadata": {},
   "source": [
    "#### Part c"
   ]
  },
  {
   "cell_type": "code",
   "execution_count": 71,
   "metadata": {},
   "outputs": [],
   "source": [
    "best_clusterer = AgglomerativeClustering(n_clusters=optimum_k, linkage='ward').fit(pca_df)\n",
    "clusters = best_clusterer.labels_"
   ]
  },
  {
   "cell_type": "code",
   "execution_count": 72,
   "metadata": {},
   "outputs": [
    {
     "data": {
      "image/png": "[encoded data removed]",
      "text/plain": [
       "<Figure size 864x504 with 1 Axes>"
      ]
     },
     "metadata": {
      "needs_background": "light"
     },
     "output_type": "display_data"
    }
   ],
   "source": [
    "fig, ax = plt.subplots()\n",
    "for c in range(optimum_k):\n",
    "    condition = clusters==c\n",
    "    ax.scatter(\n",
    "        pca_df.loc[condition, 0],\n",
    "        pca_df.loc[condition, 1],\n",
    "        label=f'Cluster {c}'\n",
    "    )\n",
    "ax.legend()\n",
    "fig.set_size_inches((12, 7))"
   ]
  },
  {
   "cell_type": "code",
   "execution_count": 73,
   "metadata": {},
   "outputs": [
    {
     "name": "stdout",
     "output_type": "stream",
     "text": [
      "------------------ Cluster 0 ------------------\n",
      "                0           1\n",
      "count  256.000000  256.000000\n",
      "mean    -0.733874   -0.047985\n",
      "std      0.317946    0.876295\n",
      "min     -1.670254   -1.902395\n",
      "25%     -0.923636   -0.512869\n",
      "50%     -0.750566   -0.114381\n",
      "75%     -0.543692    0.473950\n",
      "max      0.134866    2.360701\n",
      "------------------ Cluster 1 ------------------\n",
      "                0           1\n",
      "count  158.000000  158.000000\n",
      "mean     1.189062    0.077748\n",
      "std      0.971150    0.634921\n",
      "min     -0.396613   -1.459875\n",
      "25%      0.444122   -0.244094\n",
      "50%      1.021855    0.165598\n",
      "75%      1.722159    0.470324\n",
      "max      3.905879    1.707066\n"
     ]
    }
   ],
   "source": [
    "for c in range(optimum_k):\n",
    "    condition = clusters==c\n",
    "    print(f'------------------ Cluster {c} ------------------')\n",
    "    print(pca_df.loc[condition, :].describe())"
   ]
  },
  {
   "cell_type": "markdown",
   "metadata": {},
   "source": [
    "The count of members in each cluster has increased because we had four clusters in the previous part but here we have only two clusters. The variance of each cluster has increased as well because each cluster is containing a larger range of the data."
   ]
  }
 ],
 "metadata": {
  "interpreter": {
   "hash": "31f2aee4e71d21fbe5cf8b01ff0e069b9275f58929596ceb00d14d90e3e16cd6"
  },
  "kernelspec": {
   "display_name": "Python 3.10.4 64-bit",
   "language": "python",
   "name": "python3"
  },
  "language_info": {
   "codemirror_mode": {
    "name": "ipython",
    "version": 3
   },
   "file_extension": ".py",
   "mimetype": "text/x-python",
   "name": "python",
   "nbconvert_exporter": "python",
   "pygments_lexer": "ipython3",
   "version": "3.10.4"
  },
  "orig_nbformat": 4
 },
 "nbformat": 4,
 "nbformat_minor": 2
}
