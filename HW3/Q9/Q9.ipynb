{
 "cells": [
  {
   "cell_type": "markdown",
   "metadata": {},
   "source": [
    "# Data Mining Homework 3\n",
    "## Question 8\n",
    "### Mohammad Bahrami - 9724133"
   ]
  },
  {
   "cell_type": "code",
   "execution_count": 73,
   "metadata": {},
   "outputs": [],
   "source": [
    "import numpy as np\n",
    "import pandas as pd\n",
    "import matplotlib.pyplot as plt"
   ]
  },
  {
   "cell_type": "code",
   "execution_count": 74,
   "metadata": {},
   "outputs": [],
   "source": [
    "target_df = pd.read_csv('actual.csv', index_col=0)\n",
    "X_train = pd.read_csv('data_set_ALL_AML_train.csv')\n",
    "X_test = pd.read_csv('data_set_ALL_AML_test.csv')"
   ]
  },
  {
   "cell_type": "markdown",
   "metadata": {},
   "source": [
    "### Part a"
   ]
  },
  {
   "cell_type": "code",
   "execution_count": 75,
   "metadata": {},
   "outputs": [],
   "source": [
    "X_train.drop(X_train.columns[np.char.startswith(np.array(X_train.columns, dtype=str), 'call')], axis=1, inplace=True)\n",
    "X_test.drop(X_test.columns[np.char.startswith(np.array(X_test.columns, dtype=str), 'call')], axis=1, inplace=True)\n",
    "\n",
    "X_train.drop(['Gene Description', 'Gene Accession Number'], axis=1, inplace=True)\n",
    "X_test.drop(['Gene Description', 'Gene Accession Number'], axis=1, inplace=True)"
   ]
  },
  {
   "cell_type": "markdown",
   "metadata": {},
   "source": [
    "### Part b"
   ]
  },
  {
   "cell_type": "code",
   "execution_count": 76,
   "metadata": {},
   "outputs": [],
   "source": [
    "X_train = X_train.T\n",
    "X_test = X_test.T\n",
    "\n",
    "X_train.index = X_train.index.astype(int)\n",
    "X_test.index = X_test.index.astype(int)\n",
    "\n",
    "\n",
    "X_train.loc[:, 'label'] = target_df.loc[X_train.index.astype(int), 'cancer']\n",
    "X_test['label'] = target_df.loc[X_test.index.astype(int), 'cancer']"
   ]
  },
  {
   "cell_type": "markdown",
   "metadata": {},
   "source": [
    "### Part c"
   ]
  },
  {
   "cell_type": "code",
   "execution_count": 81,
   "metadata": {},
   "outputs": [
    {
     "name": "stderr",
     "output_type": "stream",
     "text": [
      "/home/indirected/.local/lib/python3.10/site-packages/sklearn/manifold/_t_sne.py:780: FutureWarning: The default initialization in TSNE will change from 'random' to 'pca' in 1.2.\n",
      "  warnings.warn(\n",
      "/home/indirected/.local/lib/python3.10/site-packages/sklearn/manifold/_t_sne.py:790: FutureWarning: The default learning rate in TSNE will change from 200.0 to 'auto' in 1.2.\n",
      "  warnings.warn(\n"
     ]
    }
   ],
   "source": [
    "from sklearn.manifold import TSNE\n",
    "tsne_df = pd.DataFrame(\n",
    "    TSNE(n_components=2).fit_transform(X_train.loc[:, X_train.columns != 'label']),\n",
    "    index=X_train.index\n",
    ")\n",
    "tsne_df['label'] = X_train['label']"
   ]
  },
  {
   "cell_type": "code",
   "execution_count": 87,
   "metadata": {},
   "outputs": [
    {
     "data": {
      "image/png": "[encoded data removed]",
      "text/plain": [
       "<Figure size 864x504 with 1 Axes>"
      ]
     },
     "metadata": {
      "needs_background": "light"
     },
     "output_type": "display_data"
    }
   ],
   "source": [
    "fig, ax = plt.subplots()\n",
    "ax.scatter(\n",
    "    tsne_df.loc[tsne_df['label'] == 'ALL', 0],\n",
    "    tsne_df.loc[tsne_df['label'] == 'ALL', 1],\n",
    "    label = 'ALL'\n",
    ")\n",
    "ax.scatter(\n",
    "    tsne_df.loc[tsne_df['label'] == 'AML', 0],\n",
    "    tsne_df.loc[tsne_df['label'] == 'AML', 1],\n",
    "    label = 'AML'\n",
    ")\n",
    "ax.legend()\n",
    "fig.set_size_inches((12, 7))"
   ]
  },
  {
   "cell_type": "markdown",
   "metadata": {},
   "source": [
    "### Part d"
   ]
  },
  {
   "cell_type": "code",
   "execution_count": 88,
   "metadata": {},
   "outputs": [],
   "source": [
    "from sklearn.preprocessing import StandardScaler\n",
    "\n",
    "scaler = StandardScaler().fit(X_train.loc[:, X_train.columns != 'label'])\n",
    "X_train.loc[:, X_train.columns != 'label'] = scaler.transform(X_train.loc[:, X_train.columns != 'label'])\n",
    "X_test.loc[:, X_test.columns != 'label'] = scaler.transform(X_test.loc[:, X_test.columns != 'label'])"
   ]
  },
  {
   "cell_type": "code",
   "execution_count": 112,
   "metadata": {},
   "outputs": [
    {
     "name": "stdout",
     "output_type": "stream",
     "text": [
      "MLP Accuracy on the Test Set:  91.18%\n"
     ]
    }
   ],
   "source": [
    "from sklearn.neural_network import MLPClassifier\n",
    "\n",
    "classifier = MLPClassifier().fit(X_train.loc[:, X_train.columns != 'label'], X_train['label'])\n",
    "print(f'MLP Accuracy on the Test Set: {classifier.score(X_test.loc[:, X_test.columns != \"label\"], X_test[\"label\"])*100: .2f}%')"
   ]
  },
  {
   "cell_type": "markdown",
   "metadata": {},
   "source": [
    "### Part e"
   ]
  },
  {
   "cell_type": "code",
   "execution_count": 96,
   "metadata": {},
   "outputs": [],
   "source": [
    "from sklearn.decomposition import PCA\n",
    "pca = PCA(n_components=3).fit(X_train.loc[:, X_train.columns != 'label'])\n",
    "pca_train = pca.transform(X_train.loc[:, X_train.columns != 'label'])\n",
    "pca_test = pca.transform(X_test.loc[:, X_test.columns != 'label'])"
   ]
  },
  {
   "cell_type": "code",
   "execution_count": 119,
   "metadata": {},
   "outputs": [
    {
     "name": "stdout",
     "output_type": "stream",
     "text": [
      "MLP Accuracy on the Test Set:  85.29%\n"
     ]
    }
   ],
   "source": [
    "classifier = MLPClassifier(max_iter=500).fit(pca_train, X_train['label'])\n",
    "print(f'MLP Accuracy on the Test Set: {classifier.score(pca_test, X_test[\"label\"])*100: .2f}%')"
   ]
  }
 ],
 "metadata": {
  "interpreter": {
   "hash": "31f2aee4e71d21fbe5cf8b01ff0e069b9275f58929596ceb00d14d90e3e16cd6"
  },
  "kernelspec": {
   "display_name": "Python 3.10.4 64-bit",
   "language": "python",
   "name": "python3"
  },
  "language_info": {
   "codemirror_mode": {
    "name": "ipython",
    "version": 3
   },
   "file_extension": ".py",
   "mimetype": "text/x-python",
   "name": "python",
   "nbconvert_exporter": "python",
   "pygments_lexer": "ipython3",
   "version": "3.10.4"
  },
  "orig_nbformat": 4
 },
 "nbformat": 4,
 "nbformat_minor": 2
}
