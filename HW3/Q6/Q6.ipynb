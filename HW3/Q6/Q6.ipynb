{
 "cells": [
  {
   "cell_type": "markdown",
   "metadata": {},
   "source": [
    "# Data Mining Homework 3\n",
    "## Question 6\n",
    "### Mohammad Bahrami - 9724133"
   ]
  },
  {
   "cell_type": "code",
   "execution_count": 2,
   "metadata": {},
   "outputs": [],
   "source": [
    "import numpy as np\n",
    "import pandas as pd\n",
    "import matplotlib.pyplot as plt"
   ]
  },
  {
   "cell_type": "markdown",
   "metadata": {},
   "source": [
    "### Part a"
   ]
  },
  {
   "cell_type": "code",
   "execution_count": 3,
   "metadata": {},
   "outputs": [
    {
     "data": {
      "text/html": [
       "<div>\n",
       "<style scoped>\n",
       "    .dataframe tbody tr th:only-of-type {\n",
       "        vertical-align: middle;\n",
       "    }\n",
       "\n",
       "    .dataframe tbody tr th {\n",
       "        vertical-align: top;\n",
       "    }\n",
       "\n",
       "    .dataframe thead th {\n",
       "        text-align: right;\n",
       "    }\n",
       "</style>\n",
       "<table border=\"1\" class=\"dataframe\">\n",
       "  <thead>\n",
       "    <tr style=\"text-align: right;\">\n",
       "      <th></th>\n",
       "      <th>Class</th>\n",
       "      <th>Petal length</th>\n",
       "      <th>Sepal length</th>\n",
       "      <th>Sepal width</th>\n",
       "      <th>Petal width</th>\n",
       "    </tr>\n",
       "  </thead>\n",
       "  <tbody>\n",
       "    <tr>\n",
       "      <th>0</th>\n",
       "      <td>1</td>\n",
       "      <td>51</td>\n",
       "      <td>35</td>\n",
       "      <td>14</td>\n",
       "      <td>2</td>\n",
       "    </tr>\n",
       "    <tr>\n",
       "      <th>1</th>\n",
       "      <td>1</td>\n",
       "      <td>49</td>\n",
       "      <td>30</td>\n",
       "      <td>14</td>\n",
       "      <td>2</td>\n",
       "    </tr>\n",
       "    <tr>\n",
       "      <th>2</th>\n",
       "      <td>1</td>\n",
       "      <td>47</td>\n",
       "      <td>32</td>\n",
       "      <td>13</td>\n",
       "      <td>2</td>\n",
       "    </tr>\n",
       "    <tr>\n",
       "      <th>3</th>\n",
       "      <td>1</td>\n",
       "      <td>46</td>\n",
       "      <td>31</td>\n",
       "      <td>15</td>\n",
       "      <td>2</td>\n",
       "    </tr>\n",
       "    <tr>\n",
       "      <th>4</th>\n",
       "      <td>1</td>\n",
       "      <td>50</td>\n",
       "      <td>36</td>\n",
       "      <td>14</td>\n",
       "      <td>2</td>\n",
       "    </tr>\n",
       "    <tr>\n",
       "      <th>...</th>\n",
       "      <td>...</td>\n",
       "      <td>...</td>\n",
       "      <td>...</td>\n",
       "      <td>...</td>\n",
       "      <td>...</td>\n",
       "    </tr>\n",
       "    <tr>\n",
       "      <th>145</th>\n",
       "      <td>3</td>\n",
       "      <td>67</td>\n",
       "      <td>30</td>\n",
       "      <td>52</td>\n",
       "      <td>23</td>\n",
       "    </tr>\n",
       "    <tr>\n",
       "      <th>146</th>\n",
       "      <td>3</td>\n",
       "      <td>63</td>\n",
       "      <td>25</td>\n",
       "      <td>50</td>\n",
       "      <td>19</td>\n",
       "    </tr>\n",
       "    <tr>\n",
       "      <th>147</th>\n",
       "      <td>3</td>\n",
       "      <td>65</td>\n",
       "      <td>30</td>\n",
       "      <td>52</td>\n",
       "      <td>20</td>\n",
       "    </tr>\n",
       "    <tr>\n",
       "      <th>148</th>\n",
       "      <td>3</td>\n",
       "      <td>62</td>\n",
       "      <td>34</td>\n",
       "      <td>54</td>\n",
       "      <td>23</td>\n",
       "    </tr>\n",
       "    <tr>\n",
       "      <th>149</th>\n",
       "      <td>3</td>\n",
       "      <td>59</td>\n",
       "      <td>30</td>\n",
       "      <td>51</td>\n",
       "      <td>18</td>\n",
       "    </tr>\n",
       "  </tbody>\n",
       "</table>\n",
       "<p>150 rows × 5 columns</p>\n",
       "</div>"
      ],
      "text/plain": [
       "     Class  Petal length  Sepal length  Sepal width  Petal width\n",
       "0        1            51            35           14            2\n",
       "1        1            49            30           14            2\n",
       "2        1            47            32           13            2\n",
       "3        1            46            31           15            2\n",
       "4        1            50            36           14            2\n",
       "..     ...           ...           ...          ...          ...\n",
       "145      3            67            30           52           23\n",
       "146      3            63            25           50           19\n",
       "147      3            65            30           52           20\n",
       "148      3            62            34           54           23\n",
       "149      3            59            30           51           18\n",
       "\n",
       "[150 rows x 5 columns]"
      ]
     },
     "execution_count": 3,
     "metadata": {},
     "output_type": "execute_result"
    }
   ],
   "source": [
    "dataset = pd.read_csv('Iris.csv', index_col=0)\n",
    "X = dataset.loc[:, dataset.columns != 'Class']\n",
    "Y = dataset['Class']\n",
    "dataset"
   ]
  },
  {
   "cell_type": "code",
   "execution_count": 4,
   "metadata": {},
   "outputs": [],
   "source": [
    "from sklearn.preprocessing import StandardScaler\n",
    "def KNNClassifier(X_train: pd.DataFrame, Y_train: pd.DataFrame | pd.Series, X_test: pd.DataFrame | pd.Series, K: int=5):\n",
    "    X_train = X_train.copy()\n",
    "    Y_train = Y_train.copy()\n",
    "    scaler = StandardScaler().fit(X_train)\n",
    "    X_train.loc[:, :] = scaler.transform(X_train)\n",
    "\n",
    "    X_test_scaled = (X_test - scaler.mean_) / scaler.scale_\n",
    "    distances = np.sqrt(((X_train - X_test_scaled)**2).sum(axis=1))\n",
    "    KNN_indcs = distances.sort_values(ascending=True).iloc[:K].index\n",
    "    vote = Y_train.loc[KNN_indcs].mean()\n",
    "    return int(vote.round())"
   ]
  },
  {
   "cell_type": "code",
   "execution_count": 5,
   "metadata": {},
   "outputs": [
    {
     "name": "stdout",
     "output_type": "stream",
     "text": [
      "KNNClassifier Accuracy with K=5:  94.67%\n"
     ]
    }
   ],
   "source": [
    "from sklearn.model_selection import LeaveOneOut\n",
    "cv_gen = LeaveOneOut()\n",
    "predictions = []\n",
    "y_true = []\n",
    "for train_indcs, test_idx in cv_gen.split(X):\n",
    "    test_idx = test_idx.item()\n",
    "    y_true.append(Y.loc[test_idx])\n",
    "    predictions.append(KNNClassifier(X.loc[train_indcs], Y.loc[train_indcs], X.loc[test_idx], K=5))\n",
    "    # print(f'{Y.loc[test_idx]} - {KNNClassifier(X.loc[train_indcs], Y.loc[train_indcs], X.loc[test_idx])}')\n",
    "\n",
    "y_true = np.array(y_true)\n",
    "predictions = np.array(predictions)\n",
    "accuracy = (predictions == y_true).mean()\n",
    "print(f'KNNClassifier Accuracy with K=5: {accuracy*100: .2f}%')"
   ]
  },
  {
   "cell_type": "markdown",
   "metadata": {},
   "source": [
    "### Part b"
   ]
  },
  {
   "cell_type": "code",
   "execution_count": 6,
   "metadata": {},
   "outputs": [],
   "source": [
    "accuracies = []\n",
    "errors = []\n",
    "verbose=0\n",
    "for k in range(1, 51):\n",
    "    cv_gen = LeaveOneOut()\n",
    "    predictions = []\n",
    "    y_true = []\n",
    "    for train_indcs, test_idx in cv_gen.split(X):\n",
    "        test_idx = test_idx.item()\n",
    "        y_true.append(Y.loc[test_idx])\n",
    "        predictions.append(KNNClassifier(X.loc[train_indcs], Y.loc[train_indcs], X.loc[test_idx], K=k))\n",
    "        # print(f'{Y.loc[test_idx]} - {KNNClassifier(X.loc[train_indcs], Y.loc[train_indcs], X.loc[test_idx])}')\n",
    "\n",
    "    y_true = np.array(y_true)\n",
    "    predictions = np.array(predictions)\n",
    "    accuracy = (predictions == y_true).mean()\n",
    "    error = 1 - accuracy\n",
    "    accuracies.append(accuracy)\n",
    "    errors.append(error)\n",
    "    if verbose:\n",
    "        print(f'KNNClassifier Accuracy with K={k}: {accuracy*100: .2f}%')\n",
    "accuracies = np.array(accuracies)\n",
    "errors = np.array(errors)"
   ]
  },
  {
   "cell_type": "code",
   "execution_count": 7,
   "metadata": {},
   "outputs": [
    {
     "name": "stdout",
     "output_type": "stream",
     "text": [
      "Minimum Error: 0.033333333333333326% at K: 13\n"
     ]
    }
   ],
   "source": [
    "print(f'Minimum Error: {errors.min()}% at K: {errors.argmin() + 1}')"
   ]
  },
  {
   "cell_type": "code",
   "execution_count": 8,
   "metadata": {},
   "outputs": [
    {
     "data": {
      "image/png": "[encoded data removed]",
      "text/plain": [
       "<Figure size 864x504 with 1 Axes>"
      ]
     },
     "metadata": {
      "needs_background": "light"
     },
     "output_type": "display_data"
    }
   ],
   "source": [
    "fig, ax = plt.subplots()\n",
    "ax.plot(\n",
    "    np.arange(1, 51),\n",
    "    errors\n",
    ")\n",
    "fig.set_size_inches((12, 7))"
   ]
  },
  {
   "cell_type": "markdown",
   "metadata": {},
   "source": [
    "### Part c"
   ]
  },
  {
   "cell_type": "code",
   "execution_count": 9,
   "metadata": {},
   "outputs": [],
   "source": [
    "def WeightedKNNClassifier(X_train: pd.DataFrame, Y_train: pd.DataFrame | pd.Series, X_test: pd.DataFrame | pd.Series, K: int=5):\n",
    "    X_train = X_train.copy()\n",
    "    Y_train = Y_train.copy()\n",
    "    scaler = StandardScaler().fit(X_train)\n",
    "    X_train.loc[:, :] = scaler.transform(X_train)\n",
    "\n",
    "    X_test_scaled = (X_test - scaler.mean_) / scaler.scale_\n",
    "    distances = np.sqrt(((X_train - X_test_scaled)**2).sum(axis=1))\n",
    "    KNN_indcs = distances.sort_values(ascending=True).iloc[:K].index\n",
    "    # if distances.sort_values(ascending=True).iloc[:K].sum() != 0:\n",
    "    vote = np.average(Y_train.loc[KNN_indcs], weights=1 / (distances.sort_values(ascending=True).iloc[:K] + 1e-5))\n",
    "    # else:\n",
    "    #     vote = Y_train.loc[KNN_indcs].mean()\n",
    "    return int(vote.round())"
   ]
  },
  {
   "cell_type": "code",
   "execution_count": 10,
   "metadata": {},
   "outputs": [
    {
     "name": "stdout",
     "output_type": "stream",
     "text": [
      "WeightedKNNClassifier Accuracy with K=5:  94.67%\n"
     ]
    }
   ],
   "source": [
    "cv_gen = LeaveOneOut()\n",
    "predictions = []\n",
    "y_true = []\n",
    "for train_indcs, test_idx in cv_gen.split(X):\n",
    "    test_idx = test_idx.item()\n",
    "    y_true.append(Y.loc[test_idx])\n",
    "    predictions.append(WeightedKNNClassifier(X.loc[train_indcs], Y.loc[train_indcs], X.loc[test_idx], K=5))\n",
    "    # print(f'{Y.loc[test_idx]} - {KNNClassifier(X.loc[train_indcs], Y.loc[train_indcs], X.loc[test_idx])}')\n",
    "\n",
    "y_true = np.array(y_true)\n",
    "predictions = np.array(predictions)\n",
    "accuracy = (predictions == y_true).mean()\n",
    "print(f'WeightedKNNClassifier Accuracy with K=5: {accuracy*100: .2f}%')"
   ]
  },
  {
   "cell_type": "code",
   "execution_count": 11,
   "metadata": {},
   "outputs": [],
   "source": [
    "weighted_accuracies = []\n",
    "weighted_errors = []\n",
    "verbose=0\n",
    "for k in range(1, 51):\n",
    "    cv_gen = LeaveOneOut()\n",
    "    predictions = []\n",
    "    y_true = []\n",
    "    for train_indcs, test_idx in cv_gen.split(X):\n",
    "        test_idx = test_idx.item()\n",
    "        y_true.append(Y.loc[test_idx])\n",
    "        predictions.append(WeightedKNNClassifier(X.loc[train_indcs], Y.loc[train_indcs], X.loc[test_idx], K=k))\n",
    "        # print(f'{Y.loc[test_idx]} - {KNNClassifier(X.loc[train_indcs], Y.loc[train_indcs], X.loc[test_idx])}')\n",
    "\n",
    "    y_true = np.array(y_true)\n",
    "    predictions = np.array(predictions)\n",
    "    accuracy = (predictions == y_true).mean()\n",
    "    error = 1 - accuracy\n",
    "    weighted_accuracies.append(accuracy)\n",
    "    weighted_errors.append(error)\n",
    "    if verbose:\n",
    "        print(f'KNNClassifier Accuracy with K={k}: {accuracy*100: .2f}%')\n",
    "weighted_accuracies = np.array(weighted_accuracies)\n",
    "weighted_errors = np.array(weighted_errors)"
   ]
  },
  {
   "cell_type": "code",
   "execution_count": 12,
   "metadata": {},
   "outputs": [
    {
     "name": "stdout",
     "output_type": "stream",
     "text": [
      "Minimum Error: 0.033333333333333326% at K: 7\n"
     ]
    }
   ],
   "source": [
    "print(f'Minimum Error: {weighted_errors.min()}% at K: {weighted_errors.argmin() + 1}')"
   ]
  },
  {
   "cell_type": "code",
   "execution_count": 13,
   "metadata": {},
   "outputs": [
    {
     "data": {
      "image/png": "[encoded data removed]",
      "text/plain": [
       "<Figure size 864x504 with 1 Axes>"
      ]
     },
     "metadata": {
      "needs_background": "light"
     },
     "output_type": "display_data"
    }
   ],
   "source": [
    "fig, ax = plt.subplots()\n",
    "ax.plot(\n",
    "    np.arange(1, 51),\n",
    "    errors,\n",
    "    label='Normal'\n",
    ")\n",
    "ax.plot(\n",
    "    np.arange(1, 51),\n",
    "    weighted_errors,\n",
    "    label='Weighted'\n",
    ")\n",
    "ax.legend()\n",
    "fig.set_size_inches((12, 7))"
   ]
  },
  {
   "cell_type": "markdown",
   "metadata": {},
   "source": [
    "The Weighted Model is more resistent to increase of K. The Normal model is more prone to over-fit in bigger values of K. They have similar performance at lower K values."
   ]
  }
 ],
 "metadata": {
  "interpreter": {
   "hash": "31f2aee4e71d21fbe5cf8b01ff0e069b9275f58929596ceb00d14d90e3e16cd6"
  },
  "kernelspec": {
   "display_name": "Python 3.10.4 64-bit",
   "language": "python",
   "name": "python3"
  },
  "language_info": {
   "codemirror_mode": {
    "name": "ipython",
    "version": 3
   },
   "file_extension": ".py",
   "mimetype": "text/x-python",
   "name": "python",
   "nbconvert_exporter": "python",
   "pygments_lexer": "ipython3",
   "version": "3.10.4"
  },
  "orig_nbformat": 4
 },
 "nbformat": 4,
 "nbformat_minor": 2
}
