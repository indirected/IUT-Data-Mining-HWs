{
 "cells": [
  {
   "cell_type": "markdown",
   "metadata": {},
   "source": [
    "# Fundamentals of Data Mining - Homework 5\n",
    "## Mohammad Bahrami - 9724133\n",
    "### Question 3\n"
   ]
  },
  {
   "cell_type": "code",
   "execution_count": 20,
   "metadata": {},
   "outputs": [],
   "source": [
    "import pandas as pd\n",
    "import numpy as np\n",
    "import matplotlib.pyplot as plt"
   ]
  },
  {
   "cell_type": "code",
   "execution_count": 21,
   "metadata": {},
   "outputs": [],
   "source": [
    "!pip install -qqq gsppy"
   ]
  },
  {
   "cell_type": "markdown",
   "metadata": {},
   "source": [
    "#### Part a"
   ]
  },
  {
   "cell_type": "code",
   "execution_count": 22,
   "metadata": {},
   "outputs": [],
   "source": [
    "with open('Sequences.csv', 'r') as fp:\n",
    "    file_lines = fp.read().splitlines()"
   ]
  },
  {
   "cell_type": "code",
   "execution_count": 23,
   "metadata": {},
   "outputs": [
    {
     "data": {
      "text/plain": [
       "[['25', '37', '47', '48'],\n",
       " ['44', '44', '45', '47', '49', '23'],\n",
       " ['18', '23', '37', '44', '18', '46', '17', '42', '44', '49'],\n",
       " ['26', '43', '48', '5'],\n",
       " ['11', '38', '43', '48', '9', '43', '44']]"
      ]
     },
     "execution_count": 23,
     "metadata": {},
     "output_type": "execute_result"
    }
   ],
   "source": [
    "sequences = [s.split(',') for s in file_lines]\n",
    "sequences[:5]"
   ]
  },
  {
   "cell_type": "markdown",
   "metadata": {},
   "source": [
    "#### Part b"
   ]
  },
  {
   "cell_type": "code",
   "execution_count": 24,
   "metadata": {},
   "outputs": [
    {
     "data": {
      "text/plain": [
       "[{('47',): 20,\n",
       "  ('44',): 19,\n",
       "  ('49',): 15,\n",
       "  ('48',): 16,\n",
       "  ('46',): 17,\n",
       "  ('42',): 16,\n",
       "  ('43',): 21,\n",
       "  ('35',): 15}]"
      ]
     },
     "execution_count": 24,
     "metadata": {},
     "output_type": "execute_result"
    }
   ],
   "source": [
    "from gsppy.gsp import GSP\n",
    "GSP(raw_transactions=sequences).search(minsup=0.2)"
   ]
  },
  {
   "cell_type": "markdown",
   "metadata": {},
   "source": [
    "#### Part c"
   ]
  },
  {
   "cell_type": "code",
   "execution_count": 27,
   "metadata": {},
   "outputs": [
    {
     "name": "stdout",
     "output_type": "stream",
     "text": [
      "['44', '44', '45', '47', '49', '23']\n",
      "['2', '13', '44', '45', '5', '13', '32', '14', '45', '7', '20']\n",
      "['11', '44', '45', '27', '35', '36', '38', '43', '44']\n"
     ]
    }
   ],
   "source": [
    "for s in sequences:\n",
    "    if '44' in s and '45' in s:\n",
    "        for i in np.where(np.array(s) == '44')[0]:\n",
    "            if s[i+1] == '45':\n",
    "                print(s)\n",
    "                break"
   ]
  }
 ],
 "metadata": {
  "interpreter": {
   "hash": "31f2aee4e71d21fbe5cf8b01ff0e069b9275f58929596ceb00d14d90e3e16cd6"
  },
  "kernelspec": {
   "display_name": "Python 3.10.4 64-bit",
   "language": "python",
   "name": "python3"
  },
  "language_info": {
   "codemirror_mode": {
    "name": "ipython",
    "version": 3
   },
   "file_extension": ".py",
   "mimetype": "text/x-python",
   "name": "python",
   "nbconvert_exporter": "python",
   "pygments_lexer": "ipython3",
   "version": "3.10.4"
  },
  "orig_nbformat": 4
 },
 "nbformat": 4,
 "nbformat_minor": 2
}
